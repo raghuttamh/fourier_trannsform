{
 "cells": [
  {
   "cell_type": "markdown",
   "id": "academic-fraction",
   "metadata": {},
   "source": [
    "## Simulating Fourier Transform\n",
    "<br>Author: Raghuttam Hombal<br>\n",
    "<b>Using Julia for simulations and FFT coded in Python3</b>"
   ]
  },
  {
   "cell_type": "code",
   "execution_count": null,
   "id": "loved-radar",
   "metadata": {},
   "outputs": [],
   "source": [
    "using PyCall\n",
    "using Plots"
   ]
  },
  {
   "cell_type": "code",
   "execution_count": null,
   "id": "corresponding-monster",
   "metadata": {},
   "outputs": [],
   "source": [
    "pushfirst!(PyVector(pyimport(\"sys\").\"path\"), \".\")\n",
    "push!(pyimport(\"sys\").\"path\", \"/home/raghuttam/experimental/fft_trials/fft.py\") #Please change the path to the absolute path in your device\n",
    "fft = pyimport(\"fft\") "
   ]
  },
  {
   "cell_type": "markdown",
   "id": "statewide-eclipse",
   "metadata": {},
   "source": [
    "## Discrete Fourier Transform\n",
    "It is a method to converting a signal from <b>Time Domain</b> to <b>Frequency Domain</b><br>More the details can be read [here](https://www.nxp.com/docs/en/application-note/AN4255.pdf)<br>\n",
    "We have used the <b><i>Fast Fourier Transform</i></b>, as it is was the primary purpose of the project. The algorithm is implemented using Python (which can be found in the same repository). This module is called in the Julia console, and used."
   ]
  },
  {
   "cell_type": "markdown",
   "id": "numerical-virgin",
   "metadata": {},
   "source": [
    "Now when FFT is applied in Real-time, we take the sample and concatenate it to the last of the set of N-Points (here 64). Then, the Fourier Transform of the whole set is obtained and displayed in Real-time. The function below, does the same. It cuts first (oldest sample) and makes the list back to the standard size of DFT (here 64-point)"
   ]
  },
  {
   "cell_type": "code",
   "execution_count": null,
   "id": "played-driver",
   "metadata": {},
   "outputs": [],
   "source": [
    "function dftCalc()\n",
    "    n = length(data)\n",
    "    if n>64\n",
    "        pop!(data)\n",
    "    end\n",
    "    return fft.FFT(data)\n",
    "end\n"
   ]
  },
  {
   "cell_type": "markdown",
   "id": "balanced-angel",
   "metadata": {},
   "source": [
    "Trying the system with random inputs"
   ]
  },
  {
   "cell_type": "code",
   "execution_count": null,
   "id": "under-italy",
   "metadata": {},
   "outputs": [],
   "source": [
    "data = zeros(Int64,64)\n",
    "\n",
    "anim = @animate for i in 1:150\n",
    "    sample = rand((0,1,2,3))\n",
    "    pushfirst!(data,sample)\n",
    "    p1=plot(data,label=\"signal\",ylim=(0,5))\n",
    "    ft = abs.(dftCalc())\n",
    "    ft = ft[Int(length(ft)/2):end]\n",
    "    p2=scatter(ft,label=\"Fourier Transform\",ylim=(0,100))\n",
    "    plot(p1,p2,layout=2)\n",
    "end\n",
    "gif(anim,\"dataVisualize.gif\",fps=10)"
   ]
  },
  {
   "cell_type": "markdown",
   "id": "geographic-night",
   "metadata": {},
   "source": [
    "### Using a Signal which is corrupted by noise.\n",
    "A signal is generated of time duration 2 seconds, with sampling frequency 1kHz.\n",
    "2 signals of 12f (Hz) and 8f (Hz) where f=10, are superposed. This Signal is introduced to a noise of a very small energy, whose Fourier Transform is demonstrated.<br>\n",
    "This set of data given to the FFT calculator sample by sample and simulataneously, the FFT of the set is calculated. However, for the first few samples, the set is initially zero-padded to make it to 64-point, hence it takes some while to get to a stable situation"
   ]
  },
  {
   "cell_type": "code",
   "execution_count": null,
   "id": "backed-floor",
   "metadata": {},
   "outputs": [],
   "source": [
    "duration,fS,f = 2,1000,10\n",
    "t = LinRange(0,duration*fS,fS)/fS\n",
    "signal = sin.(2*12*pi*f*t) + sin.(2*8*pi*f*t)\n",
    "noise = rand(Float64,length(signal))/3\n",
    "practical_signal = signal+noise\n",
    "plot(t[1:101],practical_signal[1:101],title=\"Chunk of the Signal\",label=false,xlabel=\"Time\",ylabel=\"Amplitude\")"
   ]
  },
  {
   "cell_type": "code",
   "execution_count": null,
   "id": "respected-garden",
   "metadata": {},
   "outputs": [],
   "source": [
    "data = zeros(Float64,64)\n",
    "\n",
    "anim = @animate for i in 1:length(practical_signal)\n",
    "    sample = practical_signal[i]\n",
    "    pushfirst!(data,sample)\n",
    "    p1=plot(data,title=\"Signal\",ylim=(-2,2),label=false,xlabel=\"Time\")\n",
    "    ft = abs.(dftCalc())\n",
    "    ft = ft[Int(length(ft)/2):end]\n",
    "    freqs = LinRange(0,fS/2,32)/duration\n",
    "    p2=scatter(freqs,reverse(ft),title=\"Fourier Transform\",ylim=(0,30),label=false,xlabel=\"Frequency\")\n",
    "    plot(p1,p2,layout=2)\n",
    "end\n",
    "gif(anim,\"dataVisualize.gif\",fps=30)"
   ]
  },
  {
   "cell_type": "markdown",
   "id": "massive-harris",
   "metadata": {},
   "source": [
    "It can be seen that there are spikes at frequency 80Hz and 120Hz, which clearly tells us the presence of signal of that frequency in the input signal and the amplitude to the spike corresponds to the proportional contribution of that component to the input signal. Since input keeps changing at every instant, the equivalent Fourier transform is obtained at every instance and it keeps varing too.<br>Due to the noise in the input, It becomes very difficult to comprehend the Fourier Transform. This can be reduced, by reducing the noise in the input signal. This can be done by using <b>Moving Average Filter</b>\n",
    "\n",
    "\n",
    "### Using Moving Average Filter (N=5)\n",
    "This concept helps to reduce the noise, by averaging out the sample with the preceding inputs which reduced the small abrupt changes caused due to noise. The formula is given by\n",
    "$$y[i] = \\frac{1}{M} \\sum_{j=0}^{M-1}x[i+j]$$\n",
    "Choosing the N-point Moving Average Filter becomes critical and is also subjective, if N is very less, then the noise is retained in considerable amount, else if N is too large, then the structure of the signal is lost. <br>More of that can be read here: [MOVING AVERAGE FILTER](https://www.analog.com/media/en/technical-documentation/dsp-book/dsp_book_Ch15.pdf)"
   ]
  },
  {
   "cell_type": "code",
   "execution_count": null,
   "id": "alike-assembly",
   "metadata": {},
   "outputs": [],
   "source": [
    "function movingAvg(sample)\n",
    "    return (sum(data[end-3:end])+sample)/5\n",
    "end"
   ]
  },
  {
   "cell_type": "code",
   "execution_count": null,
   "id": "seasonal-planet",
   "metadata": {},
   "outputs": [],
   "source": [
    "data = zeros(Float64,64)\n",
    "\n",
    "anim = @animate for i in 1:length(practical_signal)\n",
    "    sample = practical_signal[i]\n",
    "    pushfirst!(data,movingAvg(sample))\n",
    "    p1=plot(data,title=\"Signal\",ylim=(-2,2))\n",
    "    ft = abs.(dftCalc())\n",
    "    ft = ft[Int(length(ft)/2):end]\n",
    "    freqs = LinRange(0,fS/2,32)/duration\n",
    "    p2=scatter(freqs,reverse(ft),title=\"Fourier Transform\",ylim=(0,30))\n",
    "    plot(p1,p2,layout=2)\n",
    "end\n",
    "gif(anim,\"dataVisualize_mvgavg.gif\",fps=30)"
   ]
  },
  {
   "cell_type": "markdown",
   "id": "cardiac-trailer",
   "metadata": {},
   "source": [
    "We can notice that the noise is considerably reduced, which makes the Fourier Transform more stable and easy to comprehend but the catch is that, The amplitude of the signal reduces."
   ]
  }
 ],
 "metadata": {
  "kernelspec": {
   "display_name": "Julia 1.4.1",
   "language": "julia",
   "name": "julia-1.4"
  },
  "language_info": {
   "file_extension": ".jl",
   "mimetype": "application/julia",
   "name": "julia",
   "version": "1.4.1"
  }
 },
 "nbformat": 4,
 "nbformat_minor": 5
}
